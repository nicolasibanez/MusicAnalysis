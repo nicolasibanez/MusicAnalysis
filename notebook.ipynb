{
 "cells": [
  {
   "cell_type": "code",
   "execution_count": 3,
   "metadata": {},
   "outputs": [],
   "source": [
    "import pandas as pd\n",
    "import numpy as np\n",
    "import matplotlib.pyplot as plt\n",
    "from sklearn.decomposition import PCA\n",
    "import plotly.express as px\n",
    "import plotly.graph_objects as go\n",
    "import networkx as nx\n",
    "import itertools\n",
    "import random\n",
    "\n",
    "from utils import *"
   ]
  },
  {
   "cell_type": "code",
   "execution_count": 4,
   "metadata": {},
   "outputs": [
    {
     "data": {
      "text/html": [
       "<div>\n",
       "<style scoped>\n",
       "    .dataframe tbody tr th:only-of-type {\n",
       "        vertical-align: middle;\n",
       "    }\n",
       "\n",
       "    .dataframe tbody tr th {\n",
       "        vertical-align: top;\n",
       "    }\n",
       "\n",
       "    .dataframe thead th {\n",
       "        text-align: right;\n",
       "    }\n",
       "</style>\n",
       "<table border=\"1\" class=\"dataframe\">\n",
       "  <thead>\n",
       "    <tr style=\"text-align: right;\">\n",
       "      <th></th>\n",
       "      <th>song</th>\n",
       "      <th>bpm</th>\n",
       "      <th>energy</th>\n",
       "      <th>key</th>\n",
       "      <th>chroma_0</th>\n",
       "      <th>chroma_1</th>\n",
       "      <th>chroma_2</th>\n",
       "      <th>chroma_3</th>\n",
       "      <th>chroma_4</th>\n",
       "      <th>chroma_5</th>\n",
       "      <th>...</th>\n",
       "      <th>mfcc_11</th>\n",
       "      <th>mfcc_12</th>\n",
       "      <th>mfcc_13</th>\n",
       "      <th>mfcc_14</th>\n",
       "      <th>mfcc_15</th>\n",
       "      <th>mfcc_16</th>\n",
       "      <th>mfcc_17</th>\n",
       "      <th>mfcc_18</th>\n",
       "      <th>mfcc_19</th>\n",
       "      <th>spectral_centroids</th>\n",
       "    </tr>\n",
       "  </thead>\n",
       "  <tbody>\n",
       "    <tr>\n",
       "      <th>0</th>\n",
       "      <td>Freeze Corleone - Freeze Raël (ØKKY Techno edi...</td>\n",
       "      <td>160</td>\n",
       "      <td>1.865880</td>\n",
       "      <td>Bm</td>\n",
       "      <td>-0.477682</td>\n",
       "      <td>1.012120</td>\n",
       "      <td>2.647437</td>\n",
       "      <td>1.325615</td>\n",
       "      <td>0.640637</td>\n",
       "      <td>0.973365</td>\n",
       "      <td>...</td>\n",
       "      <td>-0.937401</td>\n",
       "      <td>1.563838</td>\n",
       "      <td>0.129216</td>\n",
       "      <td>1.034066</td>\n",
       "      <td>-0.103144</td>\n",
       "      <td>-0.827386</td>\n",
       "      <td>-0.851569</td>\n",
       "      <td>-0.288211</td>\n",
       "      <td>-0.203327</td>\n",
       "      <td>0.021286</td>\n",
       "    </tr>\n",
       "    <tr>\n",
       "      <th>1</th>\n",
       "      <td>Matrakk - 69 Carats [UFR001].mp3</td>\n",
       "      <td>155</td>\n",
       "      <td>-0.289873</td>\n",
       "      <td>F#m</td>\n",
       "      <td>-0.731253</td>\n",
       "      <td>-0.801464</td>\n",
       "      <td>-0.011158</td>\n",
       "      <td>-0.945499</td>\n",
       "      <td>-1.100119</td>\n",
       "      <td>-0.152173</td>\n",
       "      <td>...</td>\n",
       "      <td>1.572870</td>\n",
       "      <td>-0.554078</td>\n",
       "      <td>-0.041583</td>\n",
       "      <td>-0.247208</td>\n",
       "      <td>0.839230</td>\n",
       "      <td>2.461730</td>\n",
       "      <td>1.959794</td>\n",
       "      <td>0.790399</td>\n",
       "      <td>-1.096800</td>\n",
       "      <td>-0.675643</td>\n",
       "    </tr>\n",
       "    <tr>\n",
       "      <th>2</th>\n",
       "      <td>Ascendant Vierge - Influenceur (Nyctonian Indu...</td>\n",
       "      <td>160</td>\n",
       "      <td>-1.124974</td>\n",
       "      <td>Bm</td>\n",
       "      <td>-0.194831</td>\n",
       "      <td>-0.734684</td>\n",
       "      <td>1.682649</td>\n",
       "      <td>0.368762</td>\n",
       "      <td>-0.451555</td>\n",
       "      <td>-0.840985</td>\n",
       "      <td>...</td>\n",
       "      <td>1.039487</td>\n",
       "      <td>0.346685</td>\n",
       "      <td>0.029431</td>\n",
       "      <td>0.180843</td>\n",
       "      <td>-0.170574</td>\n",
       "      <td>0.363196</td>\n",
       "      <td>-0.480722</td>\n",
       "      <td>-0.209095</td>\n",
       "      <td>-1.125778</td>\n",
       "      <td>-1.048123</td>\n",
       "    </tr>\n",
       "    <tr>\n",
       "      <th>3</th>\n",
       "      <td>Oliver Tree - Miss You (Nyctonian Tech Pop  Te...</td>\n",
       "      <td>155</td>\n",
       "      <td>-1.578871</td>\n",
       "      <td>F#m</td>\n",
       "      <td>-0.028171</td>\n",
       "      <td>-0.618037</td>\n",
       "      <td>1.767263</td>\n",
       "      <td>-0.031793</td>\n",
       "      <td>0.927185</td>\n",
       "      <td>-0.157011</td>\n",
       "      <td>...</td>\n",
       "      <td>-1.312218</td>\n",
       "      <td>-0.155950</td>\n",
       "      <td>-0.611812</td>\n",
       "      <td>-1.018009</td>\n",
       "      <td>0.399838</td>\n",
       "      <td>-0.457980</td>\n",
       "      <td>-1.062526</td>\n",
       "      <td>-0.330170</td>\n",
       "      <td>-0.464136</td>\n",
       "      <td>-1.106900</td>\n",
       "    </tr>\n",
       "    <tr>\n",
       "      <th>4</th>\n",
       "      <td>Jaëss - Kick Dans Ton Cor.mp3</td>\n",
       "      <td>155</td>\n",
       "      <td>0.744366</td>\n",
       "      <td>C#m</td>\n",
       "      <td>-1.872866</td>\n",
       "      <td>-1.324882</td>\n",
       "      <td>-0.865519</td>\n",
       "      <td>-0.215081</td>\n",
       "      <td>2.823866</td>\n",
       "      <td>-0.163598</td>\n",
       "      <td>...</td>\n",
       "      <td>2.255093</td>\n",
       "      <td>1.250315</td>\n",
       "      <td>1.717135</td>\n",
       "      <td>-0.247022</td>\n",
       "      <td>1.017935</td>\n",
       "      <td>0.029487</td>\n",
       "      <td>1.380585</td>\n",
       "      <td>0.856681</td>\n",
       "      <td>1.449897</td>\n",
       "      <td>1.124124</td>\n",
       "    </tr>\n",
       "  </tbody>\n",
       "</table>\n",
       "<p>5 rows × 37 columns</p>\n",
       "</div>"
      ],
      "text/plain": [
       "                                                song  bpm    energy  key  \\\n",
       "0  Freeze Corleone - Freeze Raël (ØKKY Techno edi...  160  1.865880   Bm   \n",
       "1                   Matrakk - 69 Carats [UFR001].mp3  155 -0.289873  F#m   \n",
       "2  Ascendant Vierge - Influenceur (Nyctonian Indu...  160 -1.124974   Bm   \n",
       "3  Oliver Tree - Miss You (Nyctonian Tech Pop  Te...  155 -1.578871  F#m   \n",
       "4                      Jaëss - Kick Dans Ton Cor.mp3  155  0.744366  C#m   \n",
       "\n",
       "   chroma_0  chroma_1  chroma_2  chroma_3  chroma_4  chroma_5  ...   mfcc_11  \\\n",
       "0 -0.477682  1.012120  2.647437  1.325615  0.640637  0.973365  ... -0.937401   \n",
       "1 -0.731253 -0.801464 -0.011158 -0.945499 -1.100119 -0.152173  ...  1.572870   \n",
       "2 -0.194831 -0.734684  1.682649  0.368762 -0.451555 -0.840985  ...  1.039487   \n",
       "3 -0.028171 -0.618037  1.767263 -0.031793  0.927185 -0.157011  ... -1.312218   \n",
       "4 -1.872866 -1.324882 -0.865519 -0.215081  2.823866 -0.163598  ...  2.255093   \n",
       "\n",
       "    mfcc_12   mfcc_13   mfcc_14   mfcc_15   mfcc_16   mfcc_17   mfcc_18  \\\n",
       "0  1.563838  0.129216  1.034066 -0.103144 -0.827386 -0.851569 -0.288211   \n",
       "1 -0.554078 -0.041583 -0.247208  0.839230  2.461730  1.959794  0.790399   \n",
       "2  0.346685  0.029431  0.180843 -0.170574  0.363196 -0.480722 -0.209095   \n",
       "3 -0.155950 -0.611812 -1.018009  0.399838 -0.457980 -1.062526 -0.330170   \n",
       "4  1.250315  1.717135 -0.247022  1.017935  0.029487  1.380585  0.856681   \n",
       "\n",
       "    mfcc_19  spectral_centroids  \n",
       "0 -0.203327            0.021286  \n",
       "1 -1.096800           -0.675643  \n",
       "2 -1.125778           -1.048123  \n",
       "3 -0.464136           -1.106900  \n",
       "4  1.449897            1.124124  \n",
       "\n",
       "[5 rows x 37 columns]"
      ]
     },
     "execution_count": 4,
     "metadata": {},
     "output_type": "execute_result"
    }
   ],
   "source": [
    "df = load_process_data('features.csv')\n",
    "df.head()"
   ]
  },
  {
   "cell_type": "code",
   "execution_count": 6,
   "metadata": {},
   "outputs": [],
   "source": [
    "X = df.drop(['song', 'bpm', 'key'], axis=1).values"
   ]
  },
  {
   "cell_type": "code",
   "execution_count": 7,
   "metadata": {},
   "outputs": [
    {
     "data": {
      "application/vnd.plotly.v1+json": {
       "config": {
        "plotlyServerURL": "https://plot.ly"
       },
       "data": [
        {
         "hovertemplate": "x=%{x}<br>y=%{y}<br>color=%{marker.color}<extra></extra>",
         "legendgroup": "",
         "marker": {
          "color": [
           160,
           155,
           160,
           155,
           155,
           156,
           160,
           150,
           142,
           150,
           138,
           140,
           155,
           160,
           155,
           148,
           156,
           146,
           150,
           150,
           155,
           145,
           160,
           165,
           153,
           138,
           155,
           160,
           170,
           150,
           155,
           155,
           146,
           150,
           175,
           150,
           159,
           154,
           155,
           160,
           163,
           155,
           157,
           150,
           165,
           140
          ],
          "coloraxis": "coloraxis",
          "symbol": "circle"
         },
         "mode": "markers",
         "name": "",
         "orientation": "v",
         "showlegend": false,
         "type": "scatter",
         "x": [
          1.175103212562889,
          -1.8540316814204905,
          -0.18894013522529787,
          1.121862855873308,
          -3.8341573349866858,
          0.7952567898103468,
          2.3894249395006337,
          -1.3295957115345214,
          -3.1229112591698356,
          0.519242819021548,
          3.442161715950467,
          0.6685980503663385,
          0.8633950500113181,
          -4.7024584475192075,
          0.3476313448471683,
          -1.1057364970218633,
          3.5850305250344623,
          -1.2638807579505766,
          2.1321193064310036,
          -0.6800701388663432,
          0.6786253405003624,
          3.5599867270696874,
          -1.6844287854603164,
          0.7555959579991463,
          -0.20411640327880273,
          4.2149630392667055,
          -3.656767542144609,
          0.2093153905484385,
          6.890384623734272,
          1.1348652543242335,
          -2.6632905326826015,
          0.20834089920273546,
          -1.302552028516931,
          -2.2331888281570587,
          0.7057327289354656,
          1.6833723418170385,
          -1.7828635803637307,
          -2.4047982755677797,
          3.3018430031520976,
          -2.136525796456533,
          -0.809722193552691,
          -1.2315598758966062,
          -2.763670280991655,
          1.5216821973381593,
          1.9414322286301002,
          -2.8907002551638032
         ],
         "xaxis": "x",
         "y": [
          0.5013073551082926,
          0.7671083704191737,
          -1.3058574413979944,
          -2.8022574103328957,
          4.348176433318314,
          -0.8886444565768452,
          -3.6665187331594704,
          2.1585080146598896,
          -1.9739248703327357,
          2.4542057932499137,
          4.586138830498839,
          2.0820041492720542,
          -0.45408382630430555,
          -1.16505792191277,
          -0.5833007547346086,
          1.8034456456040222,
          2.794360055641238,
          -1.2227988877957636,
          -3.484621025097165,
          -3.207400844157167,
          0.21123799195998605,
          -0.9992852923528484,
          -0.27016499777738134,
          -0.25676880579276473,
          -1.712147484516732,
          2.331824810730229,
          -2.388736070606202,
          2.2567227009741906,
          -0.498319415045407,
          -0.3176116900416573,
          -0.9835043117313629,
          -2.5416198867724673,
          3.6823775778941665,
          0.26351602842358457,
          1.1236838417809487,
          -0.05862279597799861,
          -2.546371264120235,
          0.056286428366126226,
          -0.5440342278027861,
          -0.9948645983809619,
          -3.0111316865538584,
          2.884963860254034,
          2.040049718864639,
          0.9836572172756274,
          -1.8238859525089233,
          2.3719598274880376
         ],
         "yaxis": "y"
        }
       ],
       "layout": {
        "coloraxis": {
         "colorbar": {
          "title": {
           "text": "color"
          }
         },
         "colorscale": [
          [
           0,
           "#0d0887"
          ],
          [
           0.1111111111111111,
           "#46039f"
          ],
          [
           0.2222222222222222,
           "#7201a8"
          ],
          [
           0.3333333333333333,
           "#9c179e"
          ],
          [
           0.4444444444444444,
           "#bd3786"
          ],
          [
           0.5555555555555556,
           "#d8576b"
          ],
          [
           0.6666666666666666,
           "#ed7953"
          ],
          [
           0.7777777777777778,
           "#fb9f3a"
          ],
          [
           0.8888888888888888,
           "#fdca26"
          ],
          [
           1,
           "#f0f921"
          ]
         ]
        },
        "legend": {
         "tracegroupgap": 0
        },
        "margin": {
         "t": 60
        },
        "template": {
         "data": {
          "bar": [
           {
            "error_x": {
             "color": "#2a3f5f"
            },
            "error_y": {
             "color": "#2a3f5f"
            },
            "marker": {
             "line": {
              "color": "#E5ECF6",
              "width": 0.5
             },
             "pattern": {
              "fillmode": "overlay",
              "size": 10,
              "solidity": 0.2
             }
            },
            "type": "bar"
           }
          ],
          "barpolar": [
           {
            "marker": {
             "line": {
              "color": "#E5ECF6",
              "width": 0.5
             },
             "pattern": {
              "fillmode": "overlay",
              "size": 10,
              "solidity": 0.2
             }
            },
            "type": "barpolar"
           }
          ],
          "carpet": [
           {
            "aaxis": {
             "endlinecolor": "#2a3f5f",
             "gridcolor": "white",
             "linecolor": "white",
             "minorgridcolor": "white",
             "startlinecolor": "#2a3f5f"
            },
            "baxis": {
             "endlinecolor": "#2a3f5f",
             "gridcolor": "white",
             "linecolor": "white",
             "minorgridcolor": "white",
             "startlinecolor": "#2a3f5f"
            },
            "type": "carpet"
           }
          ],
          "choropleth": [
           {
            "colorbar": {
             "outlinewidth": 0,
             "ticks": ""
            },
            "type": "choropleth"
           }
          ],
          "contour": [
           {
            "colorbar": {
             "outlinewidth": 0,
             "ticks": ""
            },
            "colorscale": [
             [
              0,
              "#0d0887"
             ],
             [
              0.1111111111111111,
              "#46039f"
             ],
             [
              0.2222222222222222,
              "#7201a8"
             ],
             [
              0.3333333333333333,
              "#9c179e"
             ],
             [
              0.4444444444444444,
              "#bd3786"
             ],
             [
              0.5555555555555556,
              "#d8576b"
             ],
             [
              0.6666666666666666,
              "#ed7953"
             ],
             [
              0.7777777777777778,
              "#fb9f3a"
             ],
             [
              0.8888888888888888,
              "#fdca26"
             ],
             [
              1,
              "#f0f921"
             ]
            ],
            "type": "contour"
           }
          ],
          "contourcarpet": [
           {
            "colorbar": {
             "outlinewidth": 0,
             "ticks": ""
            },
            "type": "contourcarpet"
           }
          ],
          "heatmap": [
           {
            "colorbar": {
             "outlinewidth": 0,
             "ticks": ""
            },
            "colorscale": [
             [
              0,
              "#0d0887"
             ],
             [
              0.1111111111111111,
              "#46039f"
             ],
             [
              0.2222222222222222,
              "#7201a8"
             ],
             [
              0.3333333333333333,
              "#9c179e"
             ],
             [
              0.4444444444444444,
              "#bd3786"
             ],
             [
              0.5555555555555556,
              "#d8576b"
             ],
             [
              0.6666666666666666,
              "#ed7953"
             ],
             [
              0.7777777777777778,
              "#fb9f3a"
             ],
             [
              0.8888888888888888,
              "#fdca26"
             ],
             [
              1,
              "#f0f921"
             ]
            ],
            "type": "heatmap"
           }
          ],
          "heatmapgl": [
           {
            "colorbar": {
             "outlinewidth": 0,
             "ticks": ""
            },
            "colorscale": [
             [
              0,
              "#0d0887"
             ],
             [
              0.1111111111111111,
              "#46039f"
             ],
             [
              0.2222222222222222,
              "#7201a8"
             ],
             [
              0.3333333333333333,
              "#9c179e"
             ],
             [
              0.4444444444444444,
              "#bd3786"
             ],
             [
              0.5555555555555556,
              "#d8576b"
             ],
             [
              0.6666666666666666,
              "#ed7953"
             ],
             [
              0.7777777777777778,
              "#fb9f3a"
             ],
             [
              0.8888888888888888,
              "#fdca26"
             ],
             [
              1,
              "#f0f921"
             ]
            ],
            "type": "heatmapgl"
           }
          ],
          "histogram": [
           {
            "marker": {
             "pattern": {
              "fillmode": "overlay",
              "size": 10,
              "solidity": 0.2
             }
            },
            "type": "histogram"
           }
          ],
          "histogram2d": [
           {
            "colorbar": {
             "outlinewidth": 0,
             "ticks": ""
            },
            "colorscale": [
             [
              0,
              "#0d0887"
             ],
             [
              0.1111111111111111,
              "#46039f"
             ],
             [
              0.2222222222222222,
              "#7201a8"
             ],
             [
              0.3333333333333333,
              "#9c179e"
             ],
             [
              0.4444444444444444,
              "#bd3786"
             ],
             [
              0.5555555555555556,
              "#d8576b"
             ],
             [
              0.6666666666666666,
              "#ed7953"
             ],
             [
              0.7777777777777778,
              "#fb9f3a"
             ],
             [
              0.8888888888888888,
              "#fdca26"
             ],
             [
              1,
              "#f0f921"
             ]
            ],
            "type": "histogram2d"
           }
          ],
          "histogram2dcontour": [
           {
            "colorbar": {
             "outlinewidth": 0,
             "ticks": ""
            },
            "colorscale": [
             [
              0,
              "#0d0887"
             ],
             [
              0.1111111111111111,
              "#46039f"
             ],
             [
              0.2222222222222222,
              "#7201a8"
             ],
             [
              0.3333333333333333,
              "#9c179e"
             ],
             [
              0.4444444444444444,
              "#bd3786"
             ],
             [
              0.5555555555555556,
              "#d8576b"
             ],
             [
              0.6666666666666666,
              "#ed7953"
             ],
             [
              0.7777777777777778,
              "#fb9f3a"
             ],
             [
              0.8888888888888888,
              "#fdca26"
             ],
             [
              1,
              "#f0f921"
             ]
            ],
            "type": "histogram2dcontour"
           }
          ],
          "mesh3d": [
           {
            "colorbar": {
             "outlinewidth": 0,
             "ticks": ""
            },
            "type": "mesh3d"
           }
          ],
          "parcoords": [
           {
            "line": {
             "colorbar": {
              "outlinewidth": 0,
              "ticks": ""
             }
            },
            "type": "parcoords"
           }
          ],
          "pie": [
           {
            "automargin": true,
            "type": "pie"
           }
          ],
          "scatter": [
           {
            "fillpattern": {
             "fillmode": "overlay",
             "size": 10,
             "solidity": 0.2
            },
            "type": "scatter"
           }
          ],
          "scatter3d": [
           {
            "line": {
             "colorbar": {
              "outlinewidth": 0,
              "ticks": ""
             }
            },
            "marker": {
             "colorbar": {
              "outlinewidth": 0,
              "ticks": ""
             }
            },
            "type": "scatter3d"
           }
          ],
          "scattercarpet": [
           {
            "marker": {
             "colorbar": {
              "outlinewidth": 0,
              "ticks": ""
             }
            },
            "type": "scattercarpet"
           }
          ],
          "scattergeo": [
           {
            "marker": {
             "colorbar": {
              "outlinewidth": 0,
              "ticks": ""
             }
            },
            "type": "scattergeo"
           }
          ],
          "scattergl": [
           {
            "marker": {
             "colorbar": {
              "outlinewidth": 0,
              "ticks": ""
             }
            },
            "type": "scattergl"
           }
          ],
          "scattermapbox": [
           {
            "marker": {
             "colorbar": {
              "outlinewidth": 0,
              "ticks": ""
             }
            },
            "type": "scattermapbox"
           }
          ],
          "scatterpolar": [
           {
            "marker": {
             "colorbar": {
              "outlinewidth": 0,
              "ticks": ""
             }
            },
            "type": "scatterpolar"
           }
          ],
          "scatterpolargl": [
           {
            "marker": {
             "colorbar": {
              "outlinewidth": 0,
              "ticks": ""
             }
            },
            "type": "scatterpolargl"
           }
          ],
          "scatterternary": [
           {
            "marker": {
             "colorbar": {
              "outlinewidth": 0,
              "ticks": ""
             }
            },
            "type": "scatterternary"
           }
          ],
          "surface": [
           {
            "colorbar": {
             "outlinewidth": 0,
             "ticks": ""
            },
            "colorscale": [
             [
              0,
              "#0d0887"
             ],
             [
              0.1111111111111111,
              "#46039f"
             ],
             [
              0.2222222222222222,
              "#7201a8"
             ],
             [
              0.3333333333333333,
              "#9c179e"
             ],
             [
              0.4444444444444444,
              "#bd3786"
             ],
             [
              0.5555555555555556,
              "#d8576b"
             ],
             [
              0.6666666666666666,
              "#ed7953"
             ],
             [
              0.7777777777777778,
              "#fb9f3a"
             ],
             [
              0.8888888888888888,
              "#fdca26"
             ],
             [
              1,
              "#f0f921"
             ]
            ],
            "type": "surface"
           }
          ],
          "table": [
           {
            "cells": {
             "fill": {
              "color": "#EBF0F8"
             },
             "line": {
              "color": "white"
             }
            },
            "header": {
             "fill": {
              "color": "#C8D4E3"
             },
             "line": {
              "color": "white"
             }
            },
            "type": "table"
           }
          ]
         },
         "layout": {
          "annotationdefaults": {
           "arrowcolor": "#2a3f5f",
           "arrowhead": 0,
           "arrowwidth": 1
          },
          "autotypenumbers": "strict",
          "coloraxis": {
           "colorbar": {
            "outlinewidth": 0,
            "ticks": ""
           }
          },
          "colorscale": {
           "diverging": [
            [
             0,
             "#8e0152"
            ],
            [
             0.1,
             "#c51b7d"
            ],
            [
             0.2,
             "#de77ae"
            ],
            [
             0.3,
             "#f1b6da"
            ],
            [
             0.4,
             "#fde0ef"
            ],
            [
             0.5,
             "#f7f7f7"
            ],
            [
             0.6,
             "#e6f5d0"
            ],
            [
             0.7,
             "#b8e186"
            ],
            [
             0.8,
             "#7fbc41"
            ],
            [
             0.9,
             "#4d9221"
            ],
            [
             1,
             "#276419"
            ]
           ],
           "sequential": [
            [
             0,
             "#0d0887"
            ],
            [
             0.1111111111111111,
             "#46039f"
            ],
            [
             0.2222222222222222,
             "#7201a8"
            ],
            [
             0.3333333333333333,
             "#9c179e"
            ],
            [
             0.4444444444444444,
             "#bd3786"
            ],
            [
             0.5555555555555556,
             "#d8576b"
            ],
            [
             0.6666666666666666,
             "#ed7953"
            ],
            [
             0.7777777777777778,
             "#fb9f3a"
            ],
            [
             0.8888888888888888,
             "#fdca26"
            ],
            [
             1,
             "#f0f921"
            ]
           ],
           "sequentialminus": [
            [
             0,
             "#0d0887"
            ],
            [
             0.1111111111111111,
             "#46039f"
            ],
            [
             0.2222222222222222,
             "#7201a8"
            ],
            [
             0.3333333333333333,
             "#9c179e"
            ],
            [
             0.4444444444444444,
             "#bd3786"
            ],
            [
             0.5555555555555556,
             "#d8576b"
            ],
            [
             0.6666666666666666,
             "#ed7953"
            ],
            [
             0.7777777777777778,
             "#fb9f3a"
            ],
            [
             0.8888888888888888,
             "#fdca26"
            ],
            [
             1,
             "#f0f921"
            ]
           ]
          },
          "colorway": [
           "#636efa",
           "#EF553B",
           "#00cc96",
           "#ab63fa",
           "#FFA15A",
           "#19d3f3",
           "#FF6692",
           "#B6E880",
           "#FF97FF",
           "#FECB52"
          ],
          "font": {
           "color": "#2a3f5f"
          },
          "geo": {
           "bgcolor": "white",
           "lakecolor": "white",
           "landcolor": "#E5ECF6",
           "showlakes": true,
           "showland": true,
           "subunitcolor": "white"
          },
          "hoverlabel": {
           "align": "left"
          },
          "hovermode": "closest",
          "mapbox": {
           "style": "light"
          },
          "paper_bgcolor": "white",
          "plot_bgcolor": "#E5ECF6",
          "polar": {
           "angularaxis": {
            "gridcolor": "white",
            "linecolor": "white",
            "ticks": ""
           },
           "bgcolor": "#E5ECF6",
           "radialaxis": {
            "gridcolor": "white",
            "linecolor": "white",
            "ticks": ""
           }
          },
          "scene": {
           "xaxis": {
            "backgroundcolor": "#E5ECF6",
            "gridcolor": "white",
            "gridwidth": 2,
            "linecolor": "white",
            "showbackground": true,
            "ticks": "",
            "zerolinecolor": "white"
           },
           "yaxis": {
            "backgroundcolor": "#E5ECF6",
            "gridcolor": "white",
            "gridwidth": 2,
            "linecolor": "white",
            "showbackground": true,
            "ticks": "",
            "zerolinecolor": "white"
           },
           "zaxis": {
            "backgroundcolor": "#E5ECF6",
            "gridcolor": "white",
            "gridwidth": 2,
            "linecolor": "white",
            "showbackground": true,
            "ticks": "",
            "zerolinecolor": "white"
           }
          },
          "shapedefaults": {
           "line": {
            "color": "#2a3f5f"
           }
          },
          "ternary": {
           "aaxis": {
            "gridcolor": "white",
            "linecolor": "white",
            "ticks": ""
           },
           "baxis": {
            "gridcolor": "white",
            "linecolor": "white",
            "ticks": ""
           },
           "bgcolor": "#E5ECF6",
           "caxis": {
            "gridcolor": "white",
            "linecolor": "white",
            "ticks": ""
           }
          },
          "title": {
           "x": 0.05
          },
          "xaxis": {
           "automargin": true,
           "gridcolor": "white",
           "linecolor": "white",
           "ticks": "",
           "title": {
            "standoff": 15
           },
           "zerolinecolor": "white",
           "zerolinewidth": 2
          },
          "yaxis": {
           "automargin": true,
           "gridcolor": "white",
           "linecolor": "white",
           "ticks": "",
           "title": {
            "standoff": 15
           },
           "zerolinecolor": "white",
           "zerolinewidth": 2
          }
         }
        },
        "xaxis": {
         "anchor": "y",
         "domain": [
          0,
          1
         ],
         "title": {
          "text": "x"
         }
        },
        "yaxis": {
         "anchor": "x",
         "domain": [
          0,
          1
         ],
         "title": {
          "text": "y"
         }
        }
       }
      }
     },
     "metadata": {},
     "output_type": "display_data"
    }
   ],
   "source": [
    "# PCA to plot the data in 2D (using plotly)\n",
    "pca = PCA(n_components=2)\n",
    "X_pca = pca.fit_transform(X)\n",
    "\n",
    "# Keep a column with color that change with bpm increasing (bpm being the first column of X)\n",
    "X_pca = np.c_[X_pca, df['bpm'].values]\n",
    "\n",
    "# Plot the data in 2D\n",
    "fig = px.scatter(x=X_pca[:, 0], y=X_pca[:, 1], color=X_pca[:, 2])\n",
    "fig.show()\n"
   ]
  },
  {
   "cell_type": "code",
   "execution_count": 9,
   "metadata": {},
   "outputs": [
    {
     "data": {
      "application/vnd.plotly.v1+json": {
       "config": {
        "plotlyServerURL": "https://plot.ly"
       },
       "data": [
        {
         "hoverinfo": "none",
         "line": {
          "color": "#888",
          "width": 0.5
         },
         "mode": "lines",
         "type": "scatter",
         "x": [
          0.059784559914462646,
          0.0624751475234636,
          null,
          0.059784559914462646,
          0.03760302321117746,
          null,
          0.059784559914462646,
          0.04837561942455479,
          null,
          0.059784559914462646,
          0.04376584022941658,
          null,
          0.059784559914462646,
          0.04722784784051573,
          null,
          0.059784559914462646,
          0.057377386172635006,
          null,
          0.059784559914462646,
          0.06514599895713616,
          null,
          0.059784559914462646,
          0.04020264060808692,
          null,
          -0.012421706019147773,
          -0.018319573833273515,
          null,
          -0.012421706019147773,
          -0.01265436979252838,
          null,
          -0.012421706019147773,
          -0.006881898518268135,
          null,
          -0.012421706019147773,
          -0.02199143306727247,
          null,
          -0.012421706019147773,
          -0.005051840492151965,
          null,
          -0.012421706019147773,
          -0.018318706504567493,
          null,
          -0.012421706019147773,
          -0.01281122094619978,
          null,
          -0.012421706019147773,
          -0.006871251939461911,
          null,
          -0.012421706019147773,
          0.007294772236748073,
          null,
          0.0624751475234636,
          0.03760302321117746,
          null,
          0.0624751475234636,
          0.04837561942455479,
          null,
          0.0624751475234636,
          0.04376584022941658,
          null,
          0.0624751475234636,
          0.04722784784051573,
          null,
          0.0624751475234636,
          0.057377386172635006,
          null,
          0.0624751475234636,
          0.06514599895713616,
          null,
          0.0624751475234636,
          0.04020264060808692,
          null,
          -0.018319573833273515,
          -0.01265436979252838,
          null,
          -0.018319573833273515,
          -0.006881898518268135,
          null,
          -0.018319573833273515,
          -0.02199143306727247,
          null,
          -0.018319573833273515,
          -0.005051840492151965,
          null,
          -0.018319573833273515,
          -0.018318706504567493,
          null,
          -0.018319573833273515,
          -0.01281122094619978,
          null,
          -0.018319573833273515,
          -0.006871251939461911,
          null,
          -0.018319573833273515,
          0.007294772236748073,
          null,
          0.03914767653490687,
          0.04837561942455479,
          null,
          0.03914767653490687,
          0.04376584022941658,
          null,
          0.03914767653490687,
          0.04722784784051573,
          null,
          0.03914767653490687,
          0.0252993038397896,
          null,
          0.03914767653490687,
          0.04693961732553038,
          null,
          0.03914767653490687,
          0.053432910631444876,
          null,
          0.03914767653490687,
          0.044727976258940115,
          null,
          -0.0006554915986614224,
          0.0031766485184336626,
          null,
          -0.0006554915986614224,
          0.008198038429018102,
          null,
          -0.0006554915986614224,
          0.0252993038397896,
          null,
          -0.0006554915986614224,
          0.008155205088554716,
          null,
          -0.0006554915986614224,
          0.007294772236748073,
          null,
          -0.03246789934805562,
          -0.034088591047999175,
          null,
          -0.03246789934805562,
          0.007294772236748073,
          null,
          0.056658261487896384,
          0.03760302321117746,
          null,
          0.056658261487896384,
          0.04837561942455479,
          null,
          0.056658261487896384,
          0.04376584022941658,
          null,
          0.056658261487896384,
          0.04722784784051573,
          null,
          0.056658261487896384,
          0.04020264060808692,
          null,
          0.056658261487896384,
          0.04469687790910714,
          null,
          0.030075242976676696,
          0.03506982158982816,
          null,
          0.030075242976676696,
          0.04837561942455479,
          null,
          0.030075242976676696,
          0.04722784784051573,
          null,
          0.030075242976676696,
          0.04236170963559909,
          null,
          0.030075242976676696,
          0.03529917872069507,
          null,
          0.030075242976676696,
          0.007294772236748073,
          null,
          0.029423350126892088,
          0.0186101624869252,
          null,
          0.029423350126892088,
          0.0252993038397896,
          null,
          0.03506982158982816,
          0.04837561942455479,
          null,
          0.03506982158982816,
          0.04722784784051573,
          null,
          0.03506982158982816,
          0.04236170963559909,
          null,
          0.03506982158982816,
          0.03529917872069507,
          null,
          0.03506982158982816,
          0.007294772236748073,
          null,
          0.03760302321117746,
          0.04376584022941658,
          null,
          0.03760302321117746,
          0.057377386172635006,
          null,
          0.03760302321117746,
          0.0252993038397896,
          null,
          0.03760302321117746,
          0.06514599895713616,
          null,
          0.03760302321117746,
          0.04020264060808692,
          null,
          0.03760302321117746,
          0.007294772236748073,
          null,
          0.03760302321117746,
          0.04469687790910714,
          null,
          0.0031766485184336626,
          0.008198038429018102,
          null,
          0.0031766485184336626,
          0.0252993038397896,
          null,
          0.0031766485184336626,
          0.008155205088554716,
          null,
          0.0031766485184336626,
          0.007294772236748073,
          null,
          -0.01265436979252838,
          -0.006881898518268135,
          null,
          -0.01265436979252838,
          -0.02199143306727247,
          null,
          -0.01265436979252838,
          -0.005051840492151965,
          null,
          -0.01265436979252838,
          -0.018318706504567493,
          null,
          -0.01265436979252838,
          -0.01281122094619978,
          null,
          -0.01265436979252838,
          -0.006871251939461911,
          null,
          -0.01265436979252838,
          0.007294772236748073,
          null,
          -0.006881898518268135,
          -0.02199143306727247,
          null,
          -0.006881898518268135,
          -0.005051840492151965,
          null,
          -0.006881898518268135,
          -0.018318706504567493,
          null,
          -0.006881898518268135,
          -0.01281122094619978,
          null,
          -0.006881898518268135,
          -0.006871251939461911,
          null,
          -0.006881898518268135,
          0.007294772236748073,
          null,
          0.4923901386821815,
          0.48140268192408536,
          null,
          0.4923901386821815,
          0.49528093489537084,
          null,
          -0.6641354267372451,
          -0.6556544475456861,
          null,
          0.008198038429018102,
          0.0252993038397896,
          null,
          0.008198038429018102,
          0.008155205088554716,
          null,
          0.008198038429018102,
          0.007294772236748073,
          null,
          0.04837561942455479,
          0.04722784784051573,
          null,
          0.04837561942455479,
          0.04236170963559909,
          null,
          0.04837561942455479,
          0.03529917872069507,
          null,
          0.04837561942455479,
          0.057377386172635006,
          null,
          0.04837561942455479,
          0.06514599895713616,
          null,
          0.04837561942455479,
          0.04693961732553038,
          null,
          0.04837561942455479,
          0.053432910631444876,
          null,
          0.04837561942455479,
          0.044727976258940115,
          null,
          0.04837561942455479,
          0.04469687790910714,
          null,
          0.04376584022941658,
          0.057377386172635006,
          null,
          0.04376584022941658,
          0.0252993038397896,
          null,
          0.04376584022941658,
          0.06514599895713616,
          null,
          0.04376584022941658,
          0.04693961732553038,
          null,
          0.04376584022941658,
          0.053432910631444876,
          null,
          0.04376584022941658,
          0.044727976258940115,
          null,
          0.04376584022941658,
          0.04020264060808692,
          null,
          0.04376584022941658,
          0.007294772236748073,
          null,
          0.04376584022941658,
          0.04469687790910714,
          null,
          -0.034088591047999175,
          0.007294772236748073,
          null,
          0.04722784784051573,
          0.04236170963559909,
          null,
          0.04722784784051573,
          0.03529917872069507,
          null,
          0.04722784784051573,
          0.057377386172635006,
          null,
          0.04722784784051573,
          0.06514599895713616,
          null,
          0.04722784784051573,
          0.04693961732553038,
          null,
          0.04722784784051573,
          0.053432910631444876,
          null,
          0.04722784784051573,
          0.044727976258940115,
          null,
          0.04722784784051573,
          0.04469687790910714,
          null,
          -0.02199143306727247,
          -0.005051840492151965,
          null,
          -0.02199143306727247,
          -0.018318706504567493,
          null,
          -0.02199143306727247,
          -0.01281122094619978,
          null,
          -0.02199143306727247,
          -0.006871251939461911,
          null,
          -0.02199143306727247,
          0.007294772236748073,
          null,
          0.04236170963559909,
          0.03529917872069507,
          null,
          0.04236170963559909,
          0.007294772236748073,
          null,
          0.03529917872069507,
          0.007294772236748073,
          null,
          0.057377386172635006,
          0.06514599895713616,
          null,
          0.057377386172635006,
          0.04020264060808692,
          null,
          0.0186101624869252,
          0.0252993038397896,
          null,
          0.0252993038397896,
          0.04693961732553038,
          null,
          0.0252993038397896,
          0.008155205088554716,
          null,
          0.0252993038397896,
          0.053432910631444876,
          null,
          0.0252993038397896,
          0.044727976258940115,
          null,
          0.0252993038397896,
          0.04020264060808692,
          null,
          0.0252993038397896,
          0.007294772236748073,
          null,
          0.06514599895713616,
          0.04020264060808692,
          null,
          -0.005051840492151965,
          -0.018318706504567493,
          null,
          -0.005051840492151965,
          -0.01281122094619978,
          null,
          -0.005051840492151965,
          -0.006871251939461911,
          null,
          -0.005051840492151965,
          0.007294772236748073,
          null,
          0.48140268192408536,
          0.49528093489537084,
          null,
          0.04693961732553038,
          0.053432910631444876,
          null,
          0.04693961732553038,
          0.044727976258940115,
          null,
          0.008155205088554716,
          0.007294772236748073,
          null,
          0.053432910631444876,
          0.044727976258940115,
          null,
          -0.018318706504567493,
          -0.01281122094619978,
          null,
          -0.018318706504567493,
          -0.006871251939461911,
          null,
          -0.018318706504567493,
          0.007294772236748073,
          null,
          -0.01281122094619978,
          -0.006871251939461911,
          null,
          -0.01281122094619978,
          0.007294772236748073,
          null,
          -0.006871251939461911,
          0.007294772236748073,
          null,
          0.04020264060808692,
          0.007294772236748073,
          null,
          0.04020264060808692,
          0.04469687790910714,
          null
         ],
         "y": [
          -0.012350794043863189,
          0.003538979253282717,
          null,
          -0.012350794043863189,
          -0.001163822658102688,
          null,
          -0.012350794043863189,
          -0.007772699682183093,
          null,
          -0.012350794043863189,
          0.0014185388448261585,
          null,
          -0.012350794043863189,
          -0.005373664516951171,
          null,
          -0.012350794043863189,
          -0.007066096081171187,
          null,
          -0.012350794043863189,
          -0.004194364585292225,
          null,
          -0.012350794043863189,
          -0.004236215591192326,
          null,
          -0.029402768400774753,
          -0.043931799999285606,
          null,
          -0.029402768400774753,
          -0.03775750593246937,
          null,
          -0.029402768400774753,
          -0.03536426712856481,
          null,
          -0.029402768400774753,
          -0.038293416613406815,
          null,
          -0.029402768400774753,
          -0.04139487310601861,
          null,
          -0.029402768400774753,
          -0.03369495985800479,
          null,
          -0.029402768400774753,
          -0.046563766785088515,
          null,
          -0.029402768400774753,
          -0.048936740070712394,
          null,
          -0.029402768400774753,
          -0.016875839185960827,
          null,
          0.003538979253282717,
          -0.001163822658102688,
          null,
          0.003538979253282717,
          -0.007772699682183093,
          null,
          0.003538979253282717,
          0.0014185388448261585,
          null,
          0.003538979253282717,
          -0.005373664516951171,
          null,
          0.003538979253282717,
          -0.007066096081171187,
          null,
          0.003538979253282717,
          -0.004194364585292225,
          null,
          0.003538979253282717,
          -0.004236215591192326,
          null,
          -0.043931799999285606,
          -0.03775750593246937,
          null,
          -0.043931799999285606,
          -0.03536426712856481,
          null,
          -0.043931799999285606,
          -0.038293416613406815,
          null,
          -0.043931799999285606,
          -0.04139487310601861,
          null,
          -0.043931799999285606,
          -0.03369495985800479,
          null,
          -0.043931799999285606,
          -0.046563766785088515,
          null,
          -0.043931799999285606,
          -0.048936740070712394,
          null,
          -0.043931799999285606,
          -0.016875839185960827,
          null,
          0.011068923897095111,
          -0.007772699682183093,
          null,
          0.011068923897095111,
          0.0014185388448261585,
          null,
          0.011068923897095111,
          -0.005373664516951171,
          null,
          0.011068923897095111,
          0.013990345436034975,
          null,
          0.011068923897095111,
          0.012719584993832784,
          null,
          0.011068923897095111,
          0.013788909645130711,
          null,
          0.011068923897095111,
          0.018240483537472946,
          null,
          0.012383832028891043,
          0.018645632626963535,
          null,
          0.012383832028891043,
          0.011035004359945127,
          null,
          0.012383832028891043,
          0.013990345436034975,
          null,
          0.012383832028891043,
          0.004563774163727507,
          null,
          0.012383832028891043,
          -0.016875839185960827,
          null,
          -0.0004078142413986006,
          -0.011498800572652918,
          null,
          -0.0004078142413986006,
          -0.016875839185960827,
          null,
          0.0009810835623533145,
          -0.001163822658102688,
          null,
          0.0009810835623533145,
          -0.007772699682183093,
          null,
          0.0009810835623533145,
          0.0014185388448261585,
          null,
          0.0009810835623533145,
          -0.005373664516951171,
          null,
          0.0009810835623533145,
          -0.004236215591192326,
          null,
          0.0009810835623533145,
          -0.013790234001904279,
          null,
          -0.01807933626251321,
          -0.01880388063620224,
          null,
          -0.01807933626251321,
          -0.007772699682183093,
          null,
          -0.01807933626251321,
          -0.005373664516951171,
          null,
          -0.01807933626251321,
          -0.02441667510293687,
          null,
          -0.01807933626251321,
          -0.02620052804905453,
          null,
          -0.01807933626251321,
          -0.016875839185960827,
          null,
          0.04252197765783868,
          0.04304435807849829,
          null,
          0.04252197765783868,
          0.013990345436034975,
          null,
          -0.01880388063620224,
          -0.007772699682183093,
          null,
          -0.01880388063620224,
          -0.005373664516951171,
          null,
          -0.01880388063620224,
          -0.02441667510293687,
          null,
          -0.01880388063620224,
          -0.02620052804905453,
          null,
          -0.01880388063620224,
          -0.016875839185960827,
          null,
          -0.001163822658102688,
          0.0014185388448261585,
          null,
          -0.001163822658102688,
          -0.007066096081171187,
          null,
          -0.001163822658102688,
          0.013990345436034975,
          null,
          -0.001163822658102688,
          -0.004194364585292225,
          null,
          -0.001163822658102688,
          -0.004236215591192326,
          null,
          -0.001163822658102688,
          -0.016875839185960827,
          null,
          -0.001163822658102688,
          -0.013790234001904279,
          null,
          0.018645632626963535,
          0.011035004359945127,
          null,
          0.018645632626963535,
          0.013990345436034975,
          null,
          0.018645632626963535,
          0.004563774163727507,
          null,
          0.018645632626963535,
          -0.016875839185960827,
          null,
          -0.03775750593246937,
          -0.03536426712856481,
          null,
          -0.03775750593246937,
          -0.038293416613406815,
          null,
          -0.03775750593246937,
          -0.04139487310601861,
          null,
          -0.03775750593246937,
          -0.03369495985800479,
          null,
          -0.03775750593246937,
          -0.046563766785088515,
          null,
          -0.03775750593246937,
          -0.048936740070712394,
          null,
          -0.03775750593246937,
          -0.016875839185960827,
          null,
          -0.03536426712856481,
          -0.038293416613406815,
          null,
          -0.03536426712856481,
          -0.04139487310601861,
          null,
          -0.03536426712856481,
          -0.03369495985800479,
          null,
          -0.03536426712856481,
          -0.046563766785088515,
          null,
          -0.03536426712856481,
          -0.048936740070712394,
          null,
          -0.03536426712856481,
          -0.016875839185960827,
          null,
          0.1851512333670088,
          0.19220940948706355,
          null,
          0.1851512333670088,
          0.1992622491332143,
          null,
          -0.36118958371010557,
          -0.37577369617825007,
          null,
          0.011035004359945127,
          0.013990345436034975,
          null,
          0.011035004359945127,
          0.004563774163727507,
          null,
          0.011035004359945127,
          -0.016875839185960827,
          null,
          -0.007772699682183093,
          -0.005373664516951171,
          null,
          -0.007772699682183093,
          -0.02441667510293687,
          null,
          -0.007772699682183093,
          -0.02620052804905453,
          null,
          -0.007772699682183093,
          -0.007066096081171187,
          null,
          -0.007772699682183093,
          -0.004194364585292225,
          null,
          -0.007772699682183093,
          0.012719584993832784,
          null,
          -0.007772699682183093,
          0.013788909645130711,
          null,
          -0.007772699682183093,
          0.018240483537472946,
          null,
          -0.007772699682183093,
          -0.013790234001904279,
          null,
          0.0014185388448261585,
          -0.007066096081171187,
          null,
          0.0014185388448261585,
          0.013990345436034975,
          null,
          0.0014185388448261585,
          -0.004194364585292225,
          null,
          0.0014185388448261585,
          0.012719584993832784,
          null,
          0.0014185388448261585,
          0.013788909645130711,
          null,
          0.0014185388448261585,
          0.018240483537472946,
          null,
          0.0014185388448261585,
          -0.004236215591192326,
          null,
          0.0014185388448261585,
          -0.016875839185960827,
          null,
          0.0014185388448261585,
          -0.013790234001904279,
          null,
          -0.011498800572652918,
          -0.016875839185960827,
          null,
          -0.005373664516951171,
          -0.02441667510293687,
          null,
          -0.005373664516951171,
          -0.02620052804905453,
          null,
          -0.005373664516951171,
          -0.007066096081171187,
          null,
          -0.005373664516951171,
          -0.004194364585292225,
          null,
          -0.005373664516951171,
          0.012719584993832784,
          null,
          -0.005373664516951171,
          0.013788909645130711,
          null,
          -0.005373664516951171,
          0.018240483537472946,
          null,
          -0.005373664516951171,
          -0.013790234001904279,
          null,
          -0.038293416613406815,
          -0.04139487310601861,
          null,
          -0.038293416613406815,
          -0.03369495985800479,
          null,
          -0.038293416613406815,
          -0.046563766785088515,
          null,
          -0.038293416613406815,
          -0.048936740070712394,
          null,
          -0.038293416613406815,
          -0.016875839185960827,
          null,
          -0.02441667510293687,
          -0.02620052804905453,
          null,
          -0.02441667510293687,
          -0.016875839185960827,
          null,
          -0.02620052804905453,
          -0.016875839185960827,
          null,
          -0.007066096081171187,
          -0.004194364585292225,
          null,
          -0.007066096081171187,
          -0.004236215591192326,
          null,
          0.04304435807849829,
          0.013990345436034975,
          null,
          0.013990345436034975,
          0.012719584993832784,
          null,
          0.013990345436034975,
          0.004563774163727507,
          null,
          0.013990345436034975,
          0.013788909645130711,
          null,
          0.013990345436034975,
          0.018240483537472946,
          null,
          0.013990345436034975,
          -0.004236215591192326,
          null,
          0.013990345436034975,
          -0.016875839185960827,
          null,
          -0.004194364585292225,
          -0.004236215591192326,
          null,
          -0.04139487310601861,
          -0.03369495985800479,
          null,
          -0.04139487310601861,
          -0.046563766785088515,
          null,
          -0.04139487310601861,
          -0.048936740070712394,
          null,
          -0.04139487310601861,
          -0.016875839185960827,
          null,
          0.19220940948706355,
          0.1992622491332143,
          null,
          0.012719584993832784,
          0.013788909645130711,
          null,
          0.012719584993832784,
          0.018240483537472946,
          null,
          0.004563774163727507,
          -0.016875839185960827,
          null,
          0.013788909645130711,
          0.018240483537472946,
          null,
          -0.03369495985800479,
          -0.046563766785088515,
          null,
          -0.03369495985800479,
          -0.048936740070712394,
          null,
          -0.03369495985800479,
          -0.016875839185960827,
          null,
          -0.046563766785088515,
          -0.048936740070712394,
          null,
          -0.046563766785088515,
          -0.016875839185960827,
          null,
          -0.048936740070712394,
          -0.016875839185960827,
          null,
          -0.004236215591192326,
          -0.016875839185960827,
          null,
          -0.004236215591192326,
          -0.013790234001904279,
          null
         ]
        },
        {
         "hoverinfo": "text",
         "marker": {
          "color": [
           0.5945945945945946,
           0.4594594594594595,
           0.5945945945945946,
           0.4594594594594595,
           0.4594594594594595,
           0.4864864864864865,
           0.5945945945945946,
           0.32432432432432434,
           0.10810810810810811,
           0.32432432432432434,
           0,
           0.05405405405405406,
           0.4594594594594595,
           0.5945945945945946,
           0.4594594594594595,
           0.2702702702702703,
           0.4864864864864865,
           0.21621621621621623,
           0.32432432432432434,
           0.32432432432432434,
           0.4594594594594595,
           0.1891891891891892,
           0.5945945945945946,
           0.7297297297297297,
           0.40540540540540543,
           0,
           0.4594594594594595,
           0.5945945945945946,
           0.8648648648648649,
           0.32432432432432434,
           0.4594594594594595,
           0.4594594594594595,
           0.21621621621621623,
           0.32432432432432434,
           1,
           0.32432432432432434,
           0.5675675675675675,
           0.43243243243243246,
           0.4594594594594595,
           0.5945945945945946,
           0.6756756756756757,
           0.4594594594594595,
           0.5135135135135135,
           0.32432432432432434,
           0.7297297297297297,
           0.05405405405405406
          ],
          "colorbar": {
           "title": {
            "text": "BPM"
           }
          },
          "colorscale": [
           [
            0,
            "#440154"
           ],
           [
            0.1111111111111111,
            "#482878"
           ],
           [
            0.2222222222222222,
            "#3e4989"
           ],
           [
            0.3333333333333333,
            "#31688e"
           ],
           [
            0.4444444444444444,
            "#26828e"
           ],
           [
            0.5555555555555556,
            "#1f9e89"
           ],
           [
            0.6666666666666666,
            "#35b779"
           ],
           [
            0.7777777777777778,
            "#6ece58"
           ],
           [
            0.8888888888888888,
            "#b5de2b"
           ],
           [
            1,
            "#fde725"
           ]
          ],
          "line": {
           "width": 2
          },
          "opacity": 0.8,
          "size": 10
         },
         "mode": "markers",
         "text": [
          "Freeze Corleone - Freeze Raël (ØKKY Techno edit).mp3",
          "Matrakk - 69 Carats [UFR001].mp3",
          "Ascendant Vierge - Influenceur (Nyctonian Industrial Remix)[FREE WAV DOWNLOAD].mp3",
          "Oliver Tree - Miss You (Nyctonian Tech Pop  Techno Remix)[OUT ON SPOTIFY ETC!].mp3",
          "Jaëss - Kick Dans Ton Cor.mp3",
          "Arman John - Phased Reality.mp3",
          "LÄUFF Ft. Suzy Phosphore - Attrape-Moi [SINDEXVA005].mp3",
          "Freeze Corleone - Jour De Plus (ØKKY Techno edit).mp3",
          "Alignment - Future Dancefloor [VNR043  A2].mp3",
          "Mika - Relax, Take It Easy (E11 Rave Edit) [FREE DOWNLOAD].mp3",
          "Booba x Kaaris - Kalash (Hyperpop remix).mp3",
          "Armin van Buuren - Computers Take Over The World.mp3",
          "Migos - Walk It Talk It (DURDENHAUER Edit) [FREE DOWNLOAD].mp3",
          "MATRAKK ft Morgane Rey - Mon Amour.mp3",
          "YGNOR - Disruptive Element [JAH030].mp3",
          "SCH - Autobahn (ÆDE Remix - FREE DL).mp3",
          "Live attack.mp3",
          "Cooler Than Me.mp3",
          "BICEP - Glue (Rialians On Earth Remix  ACOR HT Rework) [MORC014].mp3",
          "Ascendant Vierge - Influenceur (Onelas Edit) FREE DL.mp3",
          "DJ Traytex X 1luu - No Signs.mp3",
          "UNMD - After Sa Mère (Lilith † AD†AM Resurection).mp3",
          "PREMIERE Kylie Minogue - My Head (Dallaniel EDIT)[Frenetik].mp3",
          "Faithless - Insomnia [ Techno Remix by brxndy ].mp3",
          "Thalassophobia.mp3",
          "Vois sur ton chemin (Techno Mix).mp3",
          "RAËL - Schmieren [SINDEX018].mp3",
          "Wick x Jasic - All The Things She Said (Schranz Edit) [MORC009] ~ free dl.mp3",
          "Saint Anne [ABR038].mp3",
          "Trepidation.mp3",
          "Premiere  MATRAKK - Walk After Woman.mp3",
          "Nyctonian x OGUZ - GOLDEN SZN.mp3",
          "Gazo - Tchin 2x (Just Pedro Techno Edit).mp3",
          "Folcoch - Not So Bad.mp3",
          "Sum41 - Still Waiting (1luu Bootleg).mp3",
          "Kenya Grace - Strangers (K1LO '2000s' Techno Remix).mp3",
          "Fly Away On The Wings Of The Wind (PEACE🕊 EDIT).mp3",
          "Matrakk - You Got The Trance.mp3",
          "Damso - Morose (RETSA flip).mp3",
          "AMRK - Exhausted (ft. Dr. Pops) [FREE DL].mp3",
          "Ayo Technology (Kølab Rave Edit).mp3",
          "Voyage.mp3",
          "Trois Nuits.mp3",
          "POUMTICA - REMIX WEJDENE JE T'AIME DE OUF[FREE DOWNLOAD].mp3",
          "Pawlowski - Demonic Dimensions [Oldschool Mix]  Possession exclusivity.mp3",
          "Naps - Dreamlife feat. SCH (Just Pedro Techno Remix).mp3"
         ],
         "type": "scatter",
         "x": [
          0.059784559914462646,
          -0.012421706019147773,
          0.0624751475234636,
          -0.018319573833273515,
          0.03914767653490687,
          -0.0006554915986614224,
          -0.03246789934805562,
          0.056658261487896384,
          0.030075242976676696,
          0.029423350126892088,
          0.03506982158982816,
          0.03760302321117746,
          0.0031766485184336626,
          -0.01265436979252838,
          -0.006881898518268135,
          0.4923901386821815,
          -0.6641354267372451,
          0.008198038429018102,
          0.04837561942455479,
          0.04376584022941658,
          -0.034088591047999175,
          0.04722784784051573,
          -0.02199143306727247,
          0.04236170963559909,
          0.03529917872069507,
          0.057377386172635006,
          -0.947899258625142,
          0.0186101624869252,
          0.0252993038397896,
          0.06514599895713616,
          -0.005051840492151965,
          0.48140268192408536,
          0.04693961732553038,
          0.008155205088554716,
          0.053432910631444876,
          0.9906245428355914,
          -1,
          0.044727976258940115,
          -0.018318706504567493,
          -0.01281122094619978,
          -0.006871251939461911,
          0.49528093489537084,
          0.04020264060808692,
          -0.6556544475456861,
          0.007294772236748073,
          0.04469687790910714
         ],
         "y": [
          -0.012350794043863189,
          -0.029402768400774753,
          0.003538979253282717,
          -0.043931799999285606,
          0.011068923897095111,
          0.012383832028891043,
          -0.0004078142413986006,
          0.0009810835623533145,
          -0.01807933626251321,
          0.04252197765783868,
          -0.01880388063620224,
          -0.001163822658102688,
          0.018645632626963535,
          -0.03775750593246937,
          -0.03536426712856481,
          0.1851512333670088,
          -0.36118958371010557,
          0.011035004359945127,
          -0.007772699682183093,
          0.0014185388448261585,
          -0.011498800572652918,
          -0.005373664516951171,
          -0.038293416613406815,
          -0.02441667510293687,
          -0.02620052804905453,
          -0.007066096081171187,
          0.5951169365867102,
          0.04304435807849829,
          0.013990345436034975,
          -0.004194364585292225,
          -0.04139487310601861,
          0.19220940948706355,
          0.012719584993832784,
          0.004563774163727507,
          0.013788909645130711,
          -0.1999595981062567,
          0.08481248444042937,
          0.018240483537472946,
          -0.03369495985800479,
          -0.046563766785088515,
          -0.048936740070712394,
          0.1992622491332143,
          -0.004236215591192326,
          -0.37577369617825007,
          -0.016875839185960827,
          -0.013790234001904279
         ]
        }
       ],
       "layout": {
        "hovermode": "closest",
        "margin": {
         "b": 20,
         "l": 5,
         "r": 5,
         "t": 40
        },
        "showlegend": false,
        "template": {
         "data": {
          "bar": [
           {
            "error_x": {
             "color": "#2a3f5f"
            },
            "error_y": {
             "color": "#2a3f5f"
            },
            "marker": {
             "line": {
              "color": "#E5ECF6",
              "width": 0.5
             },
             "pattern": {
              "fillmode": "overlay",
              "size": 10,
              "solidity": 0.2
             }
            },
            "type": "bar"
           }
          ],
          "barpolar": [
           {
            "marker": {
             "line": {
              "color": "#E5ECF6",
              "width": 0.5
             },
             "pattern": {
              "fillmode": "overlay",
              "size": 10,
              "solidity": 0.2
             }
            },
            "type": "barpolar"
           }
          ],
          "carpet": [
           {
            "aaxis": {
             "endlinecolor": "#2a3f5f",
             "gridcolor": "white",
             "linecolor": "white",
             "minorgridcolor": "white",
             "startlinecolor": "#2a3f5f"
            },
            "baxis": {
             "endlinecolor": "#2a3f5f",
             "gridcolor": "white",
             "linecolor": "white",
             "minorgridcolor": "white",
             "startlinecolor": "#2a3f5f"
            },
            "type": "carpet"
           }
          ],
          "choropleth": [
           {
            "colorbar": {
             "outlinewidth": 0,
             "ticks": ""
            },
            "type": "choropleth"
           }
          ],
          "contour": [
           {
            "colorbar": {
             "outlinewidth": 0,
             "ticks": ""
            },
            "colorscale": [
             [
              0,
              "#0d0887"
             ],
             [
              0.1111111111111111,
              "#46039f"
             ],
             [
              0.2222222222222222,
              "#7201a8"
             ],
             [
              0.3333333333333333,
              "#9c179e"
             ],
             [
              0.4444444444444444,
              "#bd3786"
             ],
             [
              0.5555555555555556,
              "#d8576b"
             ],
             [
              0.6666666666666666,
              "#ed7953"
             ],
             [
              0.7777777777777778,
              "#fb9f3a"
             ],
             [
              0.8888888888888888,
              "#fdca26"
             ],
             [
              1,
              "#f0f921"
             ]
            ],
            "type": "contour"
           }
          ],
          "contourcarpet": [
           {
            "colorbar": {
             "outlinewidth": 0,
             "ticks": ""
            },
            "type": "contourcarpet"
           }
          ],
          "heatmap": [
           {
            "colorbar": {
             "outlinewidth": 0,
             "ticks": ""
            },
            "colorscale": [
             [
              0,
              "#0d0887"
             ],
             [
              0.1111111111111111,
              "#46039f"
             ],
             [
              0.2222222222222222,
              "#7201a8"
             ],
             [
              0.3333333333333333,
              "#9c179e"
             ],
             [
              0.4444444444444444,
              "#bd3786"
             ],
             [
              0.5555555555555556,
              "#d8576b"
             ],
             [
              0.6666666666666666,
              "#ed7953"
             ],
             [
              0.7777777777777778,
              "#fb9f3a"
             ],
             [
              0.8888888888888888,
              "#fdca26"
             ],
             [
              1,
              "#f0f921"
             ]
            ],
            "type": "heatmap"
           }
          ],
          "heatmapgl": [
           {
            "colorbar": {
             "outlinewidth": 0,
             "ticks": ""
            },
            "colorscale": [
             [
              0,
              "#0d0887"
             ],
             [
              0.1111111111111111,
              "#46039f"
             ],
             [
              0.2222222222222222,
              "#7201a8"
             ],
             [
              0.3333333333333333,
              "#9c179e"
             ],
             [
              0.4444444444444444,
              "#bd3786"
             ],
             [
              0.5555555555555556,
              "#d8576b"
             ],
             [
              0.6666666666666666,
              "#ed7953"
             ],
             [
              0.7777777777777778,
              "#fb9f3a"
             ],
             [
              0.8888888888888888,
              "#fdca26"
             ],
             [
              1,
              "#f0f921"
             ]
            ],
            "type": "heatmapgl"
           }
          ],
          "histogram": [
           {
            "marker": {
             "pattern": {
              "fillmode": "overlay",
              "size": 10,
              "solidity": 0.2
             }
            },
            "type": "histogram"
           }
          ],
          "histogram2d": [
           {
            "colorbar": {
             "outlinewidth": 0,
             "ticks": ""
            },
            "colorscale": [
             [
              0,
              "#0d0887"
             ],
             [
              0.1111111111111111,
              "#46039f"
             ],
             [
              0.2222222222222222,
              "#7201a8"
             ],
             [
              0.3333333333333333,
              "#9c179e"
             ],
             [
              0.4444444444444444,
              "#bd3786"
             ],
             [
              0.5555555555555556,
              "#d8576b"
             ],
             [
              0.6666666666666666,
              "#ed7953"
             ],
             [
              0.7777777777777778,
              "#fb9f3a"
             ],
             [
              0.8888888888888888,
              "#fdca26"
             ],
             [
              1,
              "#f0f921"
             ]
            ],
            "type": "histogram2d"
           }
          ],
          "histogram2dcontour": [
           {
            "colorbar": {
             "outlinewidth": 0,
             "ticks": ""
            },
            "colorscale": [
             [
              0,
              "#0d0887"
             ],
             [
              0.1111111111111111,
              "#46039f"
             ],
             [
              0.2222222222222222,
              "#7201a8"
             ],
             [
              0.3333333333333333,
              "#9c179e"
             ],
             [
              0.4444444444444444,
              "#bd3786"
             ],
             [
              0.5555555555555556,
              "#d8576b"
             ],
             [
              0.6666666666666666,
              "#ed7953"
             ],
             [
              0.7777777777777778,
              "#fb9f3a"
             ],
             [
              0.8888888888888888,
              "#fdca26"
             ],
             [
              1,
              "#f0f921"
             ]
            ],
            "type": "histogram2dcontour"
           }
          ],
          "mesh3d": [
           {
            "colorbar": {
             "outlinewidth": 0,
             "ticks": ""
            },
            "type": "mesh3d"
           }
          ],
          "parcoords": [
           {
            "line": {
             "colorbar": {
              "outlinewidth": 0,
              "ticks": ""
             }
            },
            "type": "parcoords"
           }
          ],
          "pie": [
           {
            "automargin": true,
            "type": "pie"
           }
          ],
          "scatter": [
           {
            "fillpattern": {
             "fillmode": "overlay",
             "size": 10,
             "solidity": 0.2
            },
            "type": "scatter"
           }
          ],
          "scatter3d": [
           {
            "line": {
             "colorbar": {
              "outlinewidth": 0,
              "ticks": ""
             }
            },
            "marker": {
             "colorbar": {
              "outlinewidth": 0,
              "ticks": ""
             }
            },
            "type": "scatter3d"
           }
          ],
          "scattercarpet": [
           {
            "marker": {
             "colorbar": {
              "outlinewidth": 0,
              "ticks": ""
             }
            },
            "type": "scattercarpet"
           }
          ],
          "scattergeo": [
           {
            "marker": {
             "colorbar": {
              "outlinewidth": 0,
              "ticks": ""
             }
            },
            "type": "scattergeo"
           }
          ],
          "scattergl": [
           {
            "marker": {
             "colorbar": {
              "outlinewidth": 0,
              "ticks": ""
             }
            },
            "type": "scattergl"
           }
          ],
          "scattermapbox": [
           {
            "marker": {
             "colorbar": {
              "outlinewidth": 0,
              "ticks": ""
             }
            },
            "type": "scattermapbox"
           }
          ],
          "scatterpolar": [
           {
            "marker": {
             "colorbar": {
              "outlinewidth": 0,
              "ticks": ""
             }
            },
            "type": "scatterpolar"
           }
          ],
          "scatterpolargl": [
           {
            "marker": {
             "colorbar": {
              "outlinewidth": 0,
              "ticks": ""
             }
            },
            "type": "scatterpolargl"
           }
          ],
          "scatterternary": [
           {
            "marker": {
             "colorbar": {
              "outlinewidth": 0,
              "ticks": ""
             }
            },
            "type": "scatterternary"
           }
          ],
          "surface": [
           {
            "colorbar": {
             "outlinewidth": 0,
             "ticks": ""
            },
            "colorscale": [
             [
              0,
              "#0d0887"
             ],
             [
              0.1111111111111111,
              "#46039f"
             ],
             [
              0.2222222222222222,
              "#7201a8"
             ],
             [
              0.3333333333333333,
              "#9c179e"
             ],
             [
              0.4444444444444444,
              "#bd3786"
             ],
             [
              0.5555555555555556,
              "#d8576b"
             ],
             [
              0.6666666666666666,
              "#ed7953"
             ],
             [
              0.7777777777777778,
              "#fb9f3a"
             ],
             [
              0.8888888888888888,
              "#fdca26"
             ],
             [
              1,
              "#f0f921"
             ]
            ],
            "type": "surface"
           }
          ],
          "table": [
           {
            "cells": {
             "fill": {
              "color": "#EBF0F8"
             },
             "line": {
              "color": "white"
             }
            },
            "header": {
             "fill": {
              "color": "#C8D4E3"
             },
             "line": {
              "color": "white"
             }
            },
            "type": "table"
           }
          ]
         },
         "layout": {
          "annotationdefaults": {
           "arrowcolor": "#2a3f5f",
           "arrowhead": 0,
           "arrowwidth": 1
          },
          "autotypenumbers": "strict",
          "coloraxis": {
           "colorbar": {
            "outlinewidth": 0,
            "ticks": ""
           }
          },
          "colorscale": {
           "diverging": [
            [
             0,
             "#8e0152"
            ],
            [
             0.1,
             "#c51b7d"
            ],
            [
             0.2,
             "#de77ae"
            ],
            [
             0.3,
             "#f1b6da"
            ],
            [
             0.4,
             "#fde0ef"
            ],
            [
             0.5,
             "#f7f7f7"
            ],
            [
             0.6,
             "#e6f5d0"
            ],
            [
             0.7,
             "#b8e186"
            ],
            [
             0.8,
             "#7fbc41"
            ],
            [
             0.9,
             "#4d9221"
            ],
            [
             1,
             "#276419"
            ]
           ],
           "sequential": [
            [
             0,
             "#0d0887"
            ],
            [
             0.1111111111111111,
             "#46039f"
            ],
            [
             0.2222222222222222,
             "#7201a8"
            ],
            [
             0.3333333333333333,
             "#9c179e"
            ],
            [
             0.4444444444444444,
             "#bd3786"
            ],
            [
             0.5555555555555556,
             "#d8576b"
            ],
            [
             0.6666666666666666,
             "#ed7953"
            ],
            [
             0.7777777777777778,
             "#fb9f3a"
            ],
            [
             0.8888888888888888,
             "#fdca26"
            ],
            [
             1,
             "#f0f921"
            ]
           ],
           "sequentialminus": [
            [
             0,
             "#0d0887"
            ],
            [
             0.1111111111111111,
             "#46039f"
            ],
            [
             0.2222222222222222,
             "#7201a8"
            ],
            [
             0.3333333333333333,
             "#9c179e"
            ],
            [
             0.4444444444444444,
             "#bd3786"
            ],
            [
             0.5555555555555556,
             "#d8576b"
            ],
            [
             0.6666666666666666,
             "#ed7953"
            ],
            [
             0.7777777777777778,
             "#fb9f3a"
            ],
            [
             0.8888888888888888,
             "#fdca26"
            ],
            [
             1,
             "#f0f921"
            ]
           ]
          },
          "colorway": [
           "#636efa",
           "#EF553B",
           "#00cc96",
           "#ab63fa",
           "#FFA15A",
           "#19d3f3",
           "#FF6692",
           "#B6E880",
           "#FF97FF",
           "#FECB52"
          ],
          "font": {
           "color": "#2a3f5f"
          },
          "geo": {
           "bgcolor": "white",
           "lakecolor": "white",
           "landcolor": "#E5ECF6",
           "showlakes": true,
           "showland": true,
           "subunitcolor": "white"
          },
          "hoverlabel": {
           "align": "left"
          },
          "hovermode": "closest",
          "mapbox": {
           "style": "light"
          },
          "paper_bgcolor": "white",
          "plot_bgcolor": "#E5ECF6",
          "polar": {
           "angularaxis": {
            "gridcolor": "white",
            "linecolor": "white",
            "ticks": ""
           },
           "bgcolor": "#E5ECF6",
           "radialaxis": {
            "gridcolor": "white",
            "linecolor": "white",
            "ticks": ""
           }
          },
          "scene": {
           "xaxis": {
            "backgroundcolor": "#E5ECF6",
            "gridcolor": "white",
            "gridwidth": 2,
            "linecolor": "white",
            "showbackground": true,
            "ticks": "",
            "zerolinecolor": "white"
           },
           "yaxis": {
            "backgroundcolor": "#E5ECF6",
            "gridcolor": "white",
            "gridwidth": 2,
            "linecolor": "white",
            "showbackground": true,
            "ticks": "",
            "zerolinecolor": "white"
           },
           "zaxis": {
            "backgroundcolor": "#E5ECF6",
            "gridcolor": "white",
            "gridwidth": 2,
            "linecolor": "white",
            "showbackground": true,
            "ticks": "",
            "zerolinecolor": "white"
           }
          },
          "shapedefaults": {
           "line": {
            "color": "#2a3f5f"
           }
          },
          "ternary": {
           "aaxis": {
            "gridcolor": "white",
            "linecolor": "white",
            "ticks": ""
           },
           "baxis": {
            "gridcolor": "white",
            "linecolor": "white",
            "ticks": ""
           },
           "bgcolor": "#E5ECF6",
           "caxis": {
            "gridcolor": "white",
            "linecolor": "white",
            "ticks": ""
           }
          },
          "title": {
           "x": 0.05
          },
          "xaxis": {
           "automargin": true,
           "gridcolor": "white",
           "linecolor": "white",
           "ticks": "",
           "title": {
            "standoff": 15
           },
           "zerolinecolor": "white",
           "zerolinewidth": 2
          },
          "yaxis": {
           "automargin": true,
           "gridcolor": "white",
           "linecolor": "white",
           "ticks": "",
           "title": {
            "standoff": 15
           },
           "zerolinecolor": "white",
           "zerolinewidth": 2
          }
         }
        },
        "title": {
         "font": {
          "size": 16
         },
         "text": "Song Graph"
        },
        "xaxis": {
         "showgrid": false,
         "showticklabels": false,
         "zeroline": false
        },
        "yaxis": {
         "showgrid": false,
         "showticklabels": false,
         "zeroline": false
        }
       }
      }
     },
     "metadata": {},
     "output_type": "display_data"
    }
   ],
   "source": [
    "# 'Pier - Angèle Saiyan (Techno Edit).mp3\" bpm is too low, we remove it\n",
    "df = df[df.song != 'Pier - Angèle Saiyan (Techno Edit).mp3']\n",
    "\n",
    "# Assuming df is your DataFrame with songs and their BPMs\n",
    "G = create_graph(df)\n",
    "G = create_graph_key_constraint(df)\n",
    "\n",
    "# Normalize BPM for color mapping\n",
    "bpm_normalized = (df.set_index('song')['bpm'] - df['bpm'].min()) / (df['bpm'].max() - df['bpm'].min())\n",
    "\n",
    "# Calculate node positions\n",
    "pos = nx.spring_layout(G)\n",
    "\n",
    "# Node trace\n",
    "node_trace = go.Scatter(\n",
    "    x=[pos[node][0] for node in G.nodes()],\n",
    "    y=[pos[node][1] for node in G.nodes()],\n",
    "    mode='markers',\n",
    "    marker=dict(\n",
    "        size=10,\n",
    "        color=[bpm_normalized[node] for node in G.nodes()],\n",
    "        colorscale='Viridis',\n",
    "        colorbar=dict(title='BPM'),\n",
    "        line_width=2,\n",
    "        opacity=0.8  # Reduced opacity\n",
    "    ),\n",
    "    text=[node for node in G.nodes()],  # Hover text\n",
    "    hoverinfo='text'\n",
    ")\n",
    "\n",
    "# Edge trace\n",
    "edge_trace = go.Scatter(\n",
    "    x=[],\n",
    "    y=[],\n",
    "    line=dict(width=0.5, color='#888'),\n",
    "    hoverinfo='none',\n",
    "    mode='lines')\n",
    "\n",
    "for edge in G.edges():\n",
    "    x0, y0 = pos[edge[0]]\n",
    "    x1, y1 = pos[edge[1]]\n",
    "    edge_trace['x'] += (x0, x1, None)\n",
    "    edge_trace['y'] += (y0, y1, None)\n",
    "\n",
    "# Create the figure\n",
    "fig = go.Figure(data=[edge_trace, node_trace],\n",
    "                layout=go.Layout(\n",
    "                    title='Song Graph',\n",
    "                    titlefont_size=16,\n",
    "                    showlegend=False,\n",
    "                    hovermode='closest',\n",
    "                    margin=dict(b=20, l=5, r=5, t=40),\n",
    "                    xaxis=dict(showgrid=False, zeroline=False, showticklabels=False),\n",
    "                    yaxis=dict(showgrid=False, zeroline=False, showticklabels=False))\n",
    "                )\n",
    "\n",
    "fig.show()"
   ]
  },
  {
   "cell_type": "code",
   "execution_count": null,
   "metadata": {},
   "outputs": [],
   "source": [
    "def find_shortest_hamiltonian_path(G):\n",
    "    # Store the shortest path and its length\n",
    "    shortest_path = None\n",
    "    shortest_path_length = float('inf')\n",
    "\n",
    "    # Iterate over all permutations of nodes to check each possible path\n",
    "    for path in itertools.permutations(G.nodes()):\n",
    "        current_length = 0\n",
    "        valid_path = True\n",
    "\n",
    "        # Calculate the length of the current path\n",
    "        for i in range(len(path) - 1):\n",
    "            if G.has_edge(path[i], path[i + 1]):\n",
    "                current_length += G[path[i]][path[i + 1]]['weight']\n",
    "            else:\n",
    "                valid_path = False\n",
    "                break\n",
    "\n",
    "        # Update the shortest path if a shorter one is found\n",
    "        if valid_path and current_length < shortest_path_length:\n",
    "            shortest_path_length = current_length\n",
    "            shortest_path = path\n",
    "\n",
    "        print(f\"Checked path: {path}, Length: {current_length}\")\n",
    "\n",
    "    return shortest_path, shortest_path_length\n",
    "\n",
    "\n",
    "path, length = find_shortest_hamiltonian_path(G)\n",
    "print(f\"Shortest Hamiltonian path: {path}, Length: {length}\")"
   ]
  }
 ],
 "metadata": {
  "kernelspec": {
   "display_name": "venv",
   "language": "python",
   "name": "python3"
  },
  "language_info": {
   "codemirror_mode": {
    "name": "ipython",
    "version": 3
   },
   "file_extension": ".py",
   "mimetype": "text/x-python",
   "name": "python",
   "nbconvert_exporter": "python",
   "pygments_lexer": "ipython3",
   "version": "3.9.13"
  }
 },
 "nbformat": 4,
 "nbformat_minor": 2
}
